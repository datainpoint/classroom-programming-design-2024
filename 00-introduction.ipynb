{
 "cells": [
  {
   "cell_type": "markdown",
   "metadata": {
    "slideshow": {
     "slide_type": "slide"
    }
   },
   "source": [
    "# Programming Design\n",
    "\n",
    "> Introduction\n",
    "\n",
    "Yao-Jen Kuo <yaojenkuo@ntu.edu.tw> from [DATAINPOINT](https://www.datainpoint.com)"
   ]
  },
  {
   "cell_type": "code",
   "execution_count": 1,
   "metadata": {
    "slideshow": {
     "slide_type": "skip"
    }
   },
   "outputs": [],
   "source": [
    "import numpy as np\n",
    "import matplotlib.pyplot as plt\n",
    "import pandas as pd\n",
    "from ks2022 import KaggleSurvey2022"
   ]
  },
  {
   "cell_type": "markdown",
   "metadata": {
    "slideshow": {
     "slide_type": "subslide"
    }
   },
   "source": [
    "## Welcome to Programming Design 2024\n",
    "\n",
    "![](https://i.imgur.com/wbs8iww.png)"
   ]
  },
  {
   "cell_type": "markdown",
   "metadata": {
    "slideshow": {
     "slide_type": "subslide"
    }
   },
   "source": [
    "## What is programming?\n",
    "\n",
    "> Programming is a sequence of instructions that specifies how to perform a computation. The computation might be something mathematical, such as solving a system of equations or finding the roots of a polynomial, but it can also be a symbolic computation, such as searching and replacing text in a document or (strangely enough) compiling a program.\n",
    "\n",
    "Source: [Think Python: How to Think Like a Computer Scientist](https://www.amazon.com/Think-Python-Like-Computer-Scientist/dp/1491939362)"
   ]
  },
  {
   "cell_type": "markdown",
   "metadata": {
    "slideshow": {
     "slide_type": "subslide"
    }
   },
   "source": [
    "## Basic components appear in just about every \"programming\" language\n",
    "\n",
    "- Input.\n",
    "- Output.\n",
    "- Computing.\n",
    "- Conditional execution.\n",
    "- Repetition.\n",
    "- Testing."
   ]
  },
  {
   "cell_type": "markdown",
   "metadata": {
    "slideshow": {
     "slide_type": "subslide"
    }
   },
   "source": [
    "## Basic components appear in this course\n",
    "\n",
    "- Input: function inputs or initiating object of a certain class.\n",
    "- Output: function outputs or object methods.\n",
    "- Computing: the body of a function/class definition.\n",
    "- Conditional execution: the body of a function/class definition.\n",
    "- Repetition: the body of a function/class definition.\n",
    "- Testing: a practical way to validate the functionality of programming."
   ]
  },
  {
   "cell_type": "markdown",
   "metadata": {
    "slideshow": {
     "slide_type": "subslide"
    }
   },
   "source": [
    "## What is programming design?\n",
    "\n",
    "> Programming design is the fundamental of data structures and algorithms, which is a branch of computer science that studies the performance of algorithms, especially their run time and space requirements. The practical goal of data structures and algorithms is to optimize the performance in order to guide design decisions.\n",
    "\n",
    "Source: <http://en.wikipedia.org/wiki/Analysis_of_algorithms>"
   ]
  },
  {
   "cell_type": "markdown",
   "metadata": {
    "slideshow": {
     "slide_type": "subslide"
    }
   },
   "source": [
    "## Basic components of programming design in this course\n",
    "\n",
    "- Docstring: a string literal specified in source code that is used to document a specific segment of code.\n",
    "- Type hints: the Python runtime does not enforce function and variable type annotations, however they can be used by third party tools and improve understanding of a given function/method.\n",
    "- Testing."
   ]
  },
  {
   "cell_type": "markdown",
   "metadata": {
    "slideshow": {
     "slide_type": "subslide"
    }
   },
   "source": [
    "## Reason to learn programming design: data science is becoming a common skill in office\n",
    "\n",
    "![Imgur](https://i.imgur.com/din6Ig6.png)\n",
    "\n",
    "Source: [R for Data Science](https://r4ds.had.co.nz/)"
   ]
  },
  {
   "cell_type": "markdown",
   "metadata": {
    "slideshow": {
     "slide_type": "subslide"
    }
   },
   "source": [
    "## We will use Python as the programming language which tackles the entire pipeline\n",
    "\n",
    "![Imgur](https://i.imgur.com/din6Ig6.png)\n",
    "\n",
    "Source: [R for Data Science](https://r4ds.had.co.nz/)"
   ]
  },
  {
   "cell_type": "markdown",
   "metadata": {
    "slideshow": {
     "slide_type": "subslide"
    }
   },
   "source": [
    "## Why Python? Why not...\n",
    "\n",
    "- R?\n",
    "- Matlab?\n",
    "- Julia?\n",
    "- SAS?\n",
    "- Scala?\n",
    "- ...etc."
   ]
  },
  {
   "cell_type": "markdown",
   "metadata": {
    "slideshow": {
     "slide_type": "subslide"
    }
   },
   "source": [
    "## Let's explore a question in [2022 Kaggle ML & DS Survey](https://www.kaggle.com/c/kaggle-survey-2022)\n",
    "\n",
    "Q12: What programming languages do you use on a regular basis? (Select all that apply)"
   ]
  },
  {
   "cell_type": "code",
   "execution_count": 2,
   "metadata": {
    "slideshow": {
     "slide_type": "-"
    }
   },
   "outputs": [],
   "source": [
    "csv_file = \"https://raw.githubusercontent.com/datainpoint/classroom-programming-design-2024/main/data/kaggle_survey_2022_responses.csv\"\n",
    "ks = KaggleSurvey2022(csv_file)"
   ]
  },
  {
   "cell_type": "code",
   "execution_count": 3,
   "metadata": {
    "slideshow": {
     "slide_type": "subslide"
    }
   },
   "outputs": [
    {
     "data": {
      "image/png": "[encoded data removed]",
      "text/plain": [
       "<Figure size 640x480 with 1 Axes>"
      ]
     },
     "metadata": {},
     "output_type": "display_data"
    }
   ],
   "source": [
    "ks.plot_survey_summary(question_index=\"Q12\", n=1)"
   ]
  },
  {
   "cell_type": "markdown",
   "metadata": {
    "slideshow": {
     "slide_type": "subslide"
    }
   },
   "source": [
    "## Let's explore another line plot at [Stack Overflow Trends](https://insights.stackoverflow.com/trends?tags=python%2Cr%2Cmatlab%2Cjulia%2Csas%2Cscala)\n",
    "\n",
    "![Imgur](https://i.imgur.com/Vs13bJj.jpg?1)\n",
    "\n",
    "Source: Google Search"
   ]
  },
  {
   "cell_type": "markdown",
   "metadata": {
    "slideshow": {
     "slide_type": "subslide"
    }
   },
   "source": [
    "## The above plots speak loud and clear."
   ]
  },
  {
   "cell_type": "markdown",
   "metadata": {
    "slideshow": {
     "slide_type": "subslide"
    }
   },
   "source": [
    "## Python: the gigantic snake and its relatives\n",
    "\n",
    "- Python: the programming language itself.\n",
    "- Anaconda: the data science total solution.\n",
    "- Reticulate: the Python and R interface package.\n",
    "- Python was conceived in the late 1980s by Guido van Rossum, derived from the British comedy group Monty Python, which Guido van Rossum enjoyed while developing the language."
   ]
  },
  {
   "cell_type": "markdown",
   "metadata": {
    "slideshow": {
     "slide_type": "subslide"
    }
   },
   "source": [
    "## Python is a general-purposed language that is extremely powerful and popular among many applications\n",
    "\n",
    "- Automation\n",
    "- Databases\n",
    "- Analytics\n",
    "- Graphical user interfaces\n",
    "- Machine learning\n",
    "- Web frameworks\n",
    "- Web scraping\n",
    "- ...etc."
   ]
  },
  {
   "cell_type": "markdown",
   "metadata": {
    "slideshow": {
     "slide_type": "subslide"
    }
   },
   "source": [
    "## How does Python do all of that?\n",
    "\n",
    "- Standard libraries.\n",
    "- Third party libraries."
   ]
  },
  {
   "cell_type": "markdown",
   "metadata": {
    "slideshow": {
     "slide_type": "subslide"
    }
   },
   "source": [
    "## What is a standard/third-party library?\n",
    "\n",
    "- A standard library refers to any library where the latest version of the code is maintained and hosted by the official organization [Python.org](https://www.python.org/) and comes with the installation of Python.\n",
    "- A third party library refers to any library where the latest version of the code is not maintained and hosted by neither ourselves nor the official organization [Python.org](https://www.python.org/)."
   ]
  },
  {
   "cell_type": "markdown",
   "metadata": {
    "slideshow": {
     "slide_type": "subslide"
    }
   },
   "source": [
    "## So which third party library makes Python the go-to choice for data science?\n",
    "\n",
    "- NumPy\n",
    "- Pandas\n",
    "- Matplotlib\n",
    "- Scikit-Learn\n",
    "- TensorFlow\n",
    "- PyTorch\n",
    "- ...etc."
   ]
  },
  {
   "cell_type": "markdown",
   "metadata": {
    "slideshow": {
     "slide_type": "subslide"
    }
   },
   "source": [
    "## Topics covered in this course\n",
    "\n",
    "Level of Difficulty: **Easy**.\n",
    "\n",
    "- Getting started.\n",
    "- Data types.\n",
    "- Data structures.\n",
    "- Conditionals.\n",
    "- Iterations.\n",
    "- Functions.\n",
    "- Classes.\n",
    "- Modules.\n",
    "- The goodies.\n",
    "- Environment management.\n",
    "- An overview of data science modules."
   ]
  },
  {
   "cell_type": "markdown",
   "metadata": {
    "slideshow": {
     "slide_type": "subslide"
    }
   },
   "source": [
    "## Tools we're gonna use in this course\n",
    "\n",
    "- Terminal([Git Bash](https://git-scm.com/downloads)/Anaconda Prompt/Terminal of macOS.)\n",
    "- Text editor([Visual Studio Code](https://code.visualstudio.com/) is recommended.)\n",
    "- Python interpreter([Miniconda](https://docs.conda.io/en/latest/miniconda.html) is recommended.)\n",
    "- Cloud runtime: [Repl.it](https://replit.com/)"
   ]
  },
  {
   "cell_type": "markdown",
   "metadata": {
    "slideshow": {
     "slide_type": "subslide"
    }
   },
   "source": [
    "## How to submit assignments/exams\n",
    "\n",
    "<https://replit.com/@yaojenkuo/asgmt-0-programming-design-2024?v=1>"
   ]
  }
 ],
 "metadata": {
  "celltoolbar": "Slideshow",
  "kernelspec": {
   "display_name": "Python 3 (ipykernel)",
   "language": "python",
   "name": "python3"
  },
  "language_info": {
   "codemirror_mode": {
    "name": "ipython",
    "version": 3
   },
   "file_extension": ".py",
   "mimetype": "text/x-python",
   "name": "python",
   "nbconvert_exporter": "python",
   "pygments_lexer": "ipython3",
   "version": "3.11.4"
  }
 },
 "nbformat": 4,
 "nbformat_minor": 4
}
